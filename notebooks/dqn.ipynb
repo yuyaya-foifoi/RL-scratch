{
 "cells": [
  {
   "cell_type": "code",
   "execution_count": null,
   "metadata": {
    "executionInfo": {
     "elapsed": 7,
     "status": "ok",
     "timestamp": 1643956928899,
     "user": {
      "displayName": "yuya fujisaki",
      "photoUrl": "https://lh3.googleusercontent.com/a/default-user=s64",
      "userId": "07942545750571776438"
     },
     "user_tz": -540
    },
    "id": "apph-QTzdyKa"
   },
   "outputs": [],
   "source": [
    "import sys\n",
    "\n",
    "sys.path.append('../')\n",
    "from src.DQN.trainer.trainer import DQNtrainer\n",
    "\n",
    "import yaml\n",
    "with open('../config/config.yml') as file:\n",
    "    cfg = yaml.safe_load(file)"
   ]
  },
  {
   "cell_type": "code",
   "execution_count": null,
   "metadata": {
    "colab": {
     "base_uri": "https://localhost:8080/",
     "height": 453
    },
    "executionInfo": {
     "elapsed": 8719,
     "status": "ok",
     "timestamp": 1643956937612,
     "user": {
      "displayName": "yuya fujisaki",
      "photoUrl": "https://lh3.googleusercontent.com/a/default-user=s64",
      "userId": "07942545750571776438"
     },
     "user_tz": -540
    },
    "id": "wgpYKB71cHo_",
    "outputId": "6b8a12ee-721a-4096-f900-488e0bdbcee7"
   },
   "outputs": [],
   "source": [
    "DQNtrainer(cfg)"
   ]
  }
 ],
 "metadata": {
  "accelerator": "GPU",
  "colab": {
   "authorship_tag": "ABX9TyPcuMa5ut0zSaSz+4apx/97",
   "collapsed_sections": [],
   "mount_file_id": "1kFWH5D1C-VIDjTMQzy48-JnQNqeMtQF_",
   "name": "Untitled1.ipynb",
   "provenance": []
  },
  "interpreter": {
   "hash": "0c0e9af01194605a6d918c561d4a0ed27bcf31489443bf2de8e9a8ac78073408"
  },
  "kernelspec": {
   "display_name": "Python 3.9.5 64-bit ('3.9.5')",
   "language": "python",
   "name": "python3"
  },
  "language_info": {
   "codemirror_mode": {
    "name": "ipython",
    "version": 3
   },
   "file_extension": ".py",
   "mimetype": "text/x-python",
   "name": "python",
   "nbconvert_exporter": "python",
   "pygments_lexer": "ipython3",
   "version": "3.9.5"
  }
 },
 "nbformat": 4,
 "nbformat_minor": 4
}
